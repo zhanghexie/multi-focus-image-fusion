{
 "cells": [
  {
   "cell_type": "code",
   "execution_count": 1,
   "metadata": {
    "execution": {
     "iopub.execute_input": "2020-09-25T12:48:11.295345Z",
     "iopub.status.busy": "2020-09-25T12:48:11.294793Z",
     "iopub.status.idle": "2020-09-25T12:48:12.282281Z",
     "shell.execute_reply": "2020-09-25T12:48:12.281205Z",
     "shell.execute_reply.started": "2020-09-25T12:48:11.295286Z"
    }
   },
   "outputs": [],
   "source": [
    "from img_tools import *\n",
    "from data_tools import *"
   ]
  },
  {
   "cell_type": "code",
   "execution_count": 2,
   "metadata": {
    "execution": {
     "iopub.execute_input": "2020-09-25T12:48:12.283682Z",
     "iopub.status.busy": "2020-09-25T12:48:12.283485Z",
     "iopub.status.idle": "2020-09-25T12:48:13.925190Z",
     "shell.execute_reply": "2020-09-25T12:48:13.923131Z",
     "shell.execute_reply.started": "2020-09-25T12:48:12.283655Z"
    }
   },
   "outputs": [],
   "source": [
    "trainData = unpickle('./cifar-10-batches-py/train_data.pickle')"
   ]
  },
  {
   "cell_type": "code",
   "execution_count": 3,
   "metadata": {
    "execution": {
     "iopub.execute_input": "2020-09-25T12:48:13.928172Z",
     "iopub.status.busy": "2020-09-25T12:48:13.927900Z",
     "iopub.status.idle": "2020-09-25T12:48:13.978198Z",
     "shell.execute_reply": "2020-09-25T12:48:13.977448Z",
     "shell.execute_reply.started": "2020-09-25T12:48:13.928140Z"
    }
   },
   "outputs": [],
   "source": [
    "testData = unpickle('./cifar-10-batches-py/test_data.pickle')"
   ]
  },
  {
   "cell_type": "markdown",
   "metadata": {},
   "source": [
    "# pixel网络数据生成"
   ]
  },
  {
   "cell_type": "code",
   "execution_count": 4,
   "metadata": {
    "execution": {
     "iopub.execute_input": "2020-09-25T12:48:14.081562Z",
     "iopub.status.busy": "2020-09-25T12:48:14.081048Z",
     "iopub.status.idle": "2020-09-25T12:48:14.094445Z",
     "shell.execute_reply": "2020-09-25T12:48:14.093719Z",
     "shell.execute_reply.started": "2020-09-25T12:48:14.081505Z"
    }
   },
   "outputs": [],
   "source": [
    "def generate_mask():\n",
    "    \"\"\"\n",
    "    随机生成一个掩膜\n",
    "    返回值：\n",
    "        （32,32）的numpy数组\n",
    "    \"\"\"\n",
    "    mask_array = np.zeros((32,32,3),dtype='uint8')\n",
    "    x1 = np.random.randint(32)\n",
    "    x2 = np.random.randint(32)\n",
    "    y1 = np.random.randint(32)\n",
    "    y2 = np.random.randint(32)\n",
    "    if x1 == x2 :\n",
    "        mask_array[x1:,:]=1\n",
    "    elif y1 == y2 :\n",
    "        mask_array[:,y1:]=1\n",
    "    else:\n",
    "        for i in range(32):\n",
    "            for j in range(32):\n",
    "                if (j-y1)/(y1-y2)-(i-x1)/(x1-x2)>0:\n",
    "                    mask_array[i,j]=1\n",
    "    return mask_array"
   ]
  },
  {
   "cell_type": "code",
   "execution_count": 5,
   "metadata": {
    "execution": {
     "iopub.execute_input": "2020-09-25T12:48:15.168497Z",
     "iopub.status.busy": "2020-09-25T12:48:15.168012Z",
     "iopub.status.idle": "2020-09-25T12:48:15.350762Z",
     "shell.execute_reply": "2020-09-25T12:48:15.349961Z",
     "shell.execute_reply.started": "2020-09-25T12:48:15.168445Z"
    }
   },
   "outputs": [
    {
     "data": {
      "image/png": "[encoded data removed]",
      "text/plain": [
       "<Figure size 432x288 with 1 Axes>"
      ]
     },
     "metadata": {
      "needs_background": "light"
     },
     "output_type": "display_data"
    }
   ],
   "source": [
    "show_img(generate_mask())"
   ]
  },
  {
   "cell_type": "code",
   "execution_count": 6,
   "metadata": {
    "execution": {
     "iopub.execute_input": "2020-09-25T12:48:15.705061Z",
     "iopub.status.busy": "2020-09-25T12:48:15.704559Z",
     "iopub.status.idle": "2020-09-25T12:48:15.712474Z",
     "shell.execute_reply": "2020-09-25T12:48:15.711288Z",
     "shell.execute_reply.started": "2020-09-25T12:48:15.705005Z"
    }
   },
   "outputs": [],
   "source": [
    "def data_to_cvImg(img):\n",
    "    img = img.reshape(3,32,32)\n",
    "    img = np.transpose(img,(1,2,0))/255\n",
    "    return img"
   ]
  },
  {
   "cell_type": "code",
   "execution_count": 7,
   "metadata": {
    "execution": {
     "iopub.execute_input": "2020-09-25T12:48:16.432794Z",
     "iopub.status.busy": "2020-09-25T12:48:16.432304Z",
     "iopub.status.idle": "2020-09-25T12:48:16.650093Z",
     "shell.execute_reply": "2020-09-25T12:48:16.649294Z",
     "shell.execute_reply.started": "2020-09-25T12:48:16.432739Z"
    }
   },
   "outputs": [
    {
     "data": {
      "image/png": "[encoded data removed]",
      "text/plain": [
       "<Figure size 432x288 with 1 Axes>"
      ]
     },
     "metadata": {
      "needs_background": "light"
     },
     "output_type": "display_data"
    }
   ],
   "source": [
    "show_img(data_to_cvImg(trainData[2]))"
   ]
  },
  {
   "cell_type": "code",
   "execution_count": 8,
   "metadata": {
    "execution": {
     "iopub.execute_input": "2020-09-25T12:48:17.312025Z",
     "iopub.status.busy": "2020-09-25T12:48:17.311496Z",
     "iopub.status.idle": "2020-09-25T12:48:17.321368Z",
     "shell.execute_reply": "2020-09-25T12:48:17.320216Z",
     "shell.execute_reply.started": "2020-09-25T12:48:17.311969Z"
    }
   },
   "outputs": [
    {
     "name": "stdout",
     "output_type": "stream",
     "text": [
      "(32, 32, 3)\n",
      "50000\n"
     ]
    }
   ],
   "source": [
    "print(generate_mask().shape)\n",
    "print(trainData.shape[0])"
   ]
  },
  {
   "cell_type": "markdown",
   "metadata": {},
   "source": [
    "## 训练集"
   ]
  },
  {
   "cell_type": "code",
   "execution_count": 9,
   "metadata": {
    "execution": {
     "iopub.execute_input": "2020-09-25T12:48:18.799356Z",
     "iopub.status.busy": "2020-09-25T12:48:18.798843Z",
     "iopub.status.idle": "2020-09-25T13:00:01.461191Z",
     "shell.execute_reply": "2020-09-25T13:00:01.460028Z",
     "shell.execute_reply.started": "2020-09-25T12:48:18.799300Z"
    }
   },
   "outputs": [
    {
     "name": "stdout",
     "output_type": "stream",
     "text": [
      " 49999 499  5099  15244  22167   "
     ]
    }
   ],
   "source": [
    "clearNumber = 0\n",
    "blurNumber = 0\n",
    "trainSet = []\n",
    "for i in range(trainData.shape[0]):\n",
    "    print('\\r',i,end=' ')\n",
    "    I = data_to_cvImg(trainData[i])\n",
    "    \n",
    "    # 1原图相\n",
    "    save_img(I,'./data_set/pixel/train_set/1/'+str(clearNumber)+\".jpg\")\n",
    "    trainSet.append([str(clearNumber),1])\n",
    "    clearNumber += 1\n",
    "    \n",
    "    Ib = I\n",
    "    for m in range(3):\n",
    "        Ib = cv.GaussianBlur(Ib,(7,7),sigmaX = 2)\n",
    "        save_img(Ib,'./data_set/pixel/train_set/0/'+str(blurNumber)+\".jpg\")\n",
    "        trainSet.append([str(blurNumber),0])\n",
    "        blurNumber += 1\n",
    "        for j in range(5):\n",
    "            mask = generate_mask()\n",
    "            temp = np.multiply(mask,I)+np.multiply(1-mask,Ib)\n",
    "            if mask[16,16,0] == 1:\n",
    "                save_img(temp,'./data_set/pixel/train_set/1/'+str(clearNumber)+\".jpg\")\n",
    "                trainSet.append([str(clearNumber),1])\n",
    "                clearNumber += 1\n",
    "            else:\n",
    "                save_img(temp,'./data_set/pixel/train_set/0/'+str(blurNumber)+\".jpg\")\n",
    "                trainSet.append([str(blurNumber),0])\n",
    "                blurNumber += 1\n",
    "                \n",
    "save_data(trainSet,'./data_set/pixel/train_set.pickle')\n",
    "del trainSet"
   ]
  },
  {
   "cell_type": "markdown",
   "metadata": {},
   "source": [
    "## 测试集"
   ]
  },
  {
   "cell_type": "code",
   "execution_count": 10,
   "metadata": {
    "execution": {
     "iopub.execute_input": "2020-09-25T13:00:01.462965Z",
     "iopub.status.busy": "2020-09-25T13:00:01.462774Z",
     "iopub.status.idle": "2020-09-25T13:01:57.490990Z",
     "shell.execute_reply": "2020-09-25T13:01:57.489834Z",
     "shell.execute_reply.started": "2020-09-25T13:00:01.462941Z"
    },
    "scrolled": true
   },
   "outputs": [
    {
     "name": "stdout",
     "output_type": "stream",
     "text": [
      " 9999"
     ]
    }
   ],
   "source": [
    "clearNumber = 0\n",
    "blurNumber = 0\n",
    "testSet = []\n",
    "for i in range(testData.shape[0]):\n",
    "    print('\\r',i,end='')\n",
    "    I = data_to_cvImg(trainData[i])\n",
    "    \n",
    "    # 1原图相\n",
    "    save_img(I,'./data_set/pixel/test_set/1/'+str(clearNumber)+\".jpg\")\n",
    "    testSet.append([str(clearNumber),1])\n",
    "    clearNumber += 1\n",
    "    \n",
    "    Ib = I\n",
    "    for m in range(3):\n",
    "        Ib = cv.GaussianBlur(Ib,(7,7),sigmaX = 2)\n",
    "        save_img(Ib,'./data_set/pixel/test_set/0/'+str(blurNumber)+\".jpg\")\n",
    "        testSet.append([str(blurNumber),0])\n",
    "        blurNumber += 1\n",
    "        for j in range(5):\n",
    "            mask = generate_mask()\n",
    "            temp = np.multiply(mask,I)+np.multiply(1-mask,Ib)\n",
    "            if mask[16,16,0] == 1:\n",
    "                save_img(temp,'./data_set/pixel/test_set/1/'+str(clearNumber)+\".jpg\")\n",
    "                testSet.append([str(clearNumber),1])\n",
    "                clearNumber += 1\n",
    "            else:\n",
    "                save_img(temp,'./data_set/pixel/test_set/0/'+str(blurNumber)+\".jpg\")\n",
    "                testSet.append([str(blurNumber),0])\n",
    "                blurNumber += 1\n",
    "save_data(testSet,'./data_set/pixel/test_set.pickle')\n",
    "del testSet"
   ]
  },
  {
   "cell_type": "markdown",
   "metadata": {},
   "source": [
    "# block网络\n",
    "## 训练集"
   ]
  },
  {
   "cell_type": "code",
   "execution_count": 11,
   "metadata": {
    "execution": {
     "iopub.execute_input": "2020-09-25T13:08:00.879067Z",
     "iopub.status.busy": "2020-09-25T13:08:00.878416Z",
     "iopub.status.idle": "2020-09-25T13:09:42.219204Z",
     "shell.execute_reply": "2020-09-25T13:09:42.218007Z",
     "shell.execute_reply.started": "2020-09-25T13:08:00.878999Z"
    }
   },
   "outputs": [
    {
     "name": "stdout",
     "output_type": "stream",
     "text": [
      " 49999 904 30668 "
     ]
    }
   ],
   "source": [
    "clearNumber = 0\n",
    "blurNumber = 0\n",
    "trainSet = []\n",
    "for i in range(trainData.shape[0]):\n",
    "    print('\\r',i,end=' ')\n",
    "    I = data_to_cvImg(trainData[i])\n",
    "    # 1原图相\n",
    "    for j in range(6):\n",
    "        h = np.random.randint(0,17)\n",
    "        w = np.random.randint(0,17)\n",
    "        save_img(I[h:h+16,w:w+16,:],'./data_set/block/train_set/1/'+str(clearNumber)+\".jpg\")\n",
    "        trainSet.append([str(clearNumber),1])\n",
    "        clearNumber += 1\n",
    "        \n",
    "    Ib = I\n",
    "    for i in range(3):\n",
    "        Ib = cv.GaussianBlur(Ib,(7,7),sigmaX = 2)\n",
    "        for j in range(2):\n",
    "            h = np.random.randint(0,17)\n",
    "            w = np.random.randint(0,17)\n",
    "            save_img(Ib[h:h+16,w:w+16,:],'./data_set/block/train_set/0/'+str(blurNumber)+\".jpg\")\n",
    "            trainSet.append([str(blurNumber),0])\n",
    "            blurNumber += 1\n",
    "        \n",
    "save_data(trainSet,'./data_set/block/train_set.pickle')\n",
    "del trainSet"
   ]
  },
  {
   "cell_type": "markdown",
   "metadata": {},
   "source": [
    "## 测试集"
   ]
  },
  {
   "cell_type": "code",
   "execution_count": 13,
   "metadata": {
    "execution": {
     "iopub.execute_input": "2020-09-25T13:10:14.334921Z",
     "iopub.status.busy": "2020-09-25T13:10:14.334356Z",
     "iopub.status.idle": "2020-09-25T13:11:25.987489Z",
     "shell.execute_reply": "2020-09-25T13:11:25.986609Z",
     "shell.execute_reply.started": "2020-09-25T13:10:14.334863Z"
    }
   },
   "outputs": [
    {
     "name": "stdout",
     "output_type": "stream",
     "text": [
      " 9999 97 920 4527 "
     ]
    }
   ],
   "source": [
    "clearNumber = 0\n",
    "blurNumber = 0\n",
    "testSet = []\n",
    "for i in range(testData.shape[0]):\n",
    "    print('\\r',i,end=' ')\n",
    "    I = data_to_cvImg(testData[i])\n",
    "    # 1原图相\n",
    "    for j in range(6):\n",
    "        h = np.random.randint(0,17)\n",
    "        w = np.random.randint(0,17)\n",
    "        save_img(I[h:h+16,w:w+16,:],'./data_set/block/test_set/1/'+str(clearNumber)+\".jpg\")\n",
    "        testSet.append([str(clearNumber),1])\n",
    "        clearNumber += 1\n",
    "        \n",
    "    Ib = I\n",
    "    for i in range(3):\n",
    "        Ib = cv.GaussianBlur(Ib,(7,7),sigmaX = 2)\n",
    "        for j in range(2):\n",
    "            h = np.random.randint(0,17)\n",
    "            w = np.random.randint(0,17)\n",
    "            save_img(Ib[h:h+16,w:w+16,:],'./data_set/block/test_set/0/'+str(blurNumber)+\".jpg\")\n",
    "            testSet.append([str(blurNumber),0])\n",
    "            blurNumber += 1\n",
    "        \n",
    "save_data(testSet,'./data_set/block/test_set.pickle')\n",
    "del testSet"
   ]
  },
  {
   "cell_type": "code",
   "execution_count": null,
   "metadata": {},
   "outputs": [],
   "source": []
  }
 ],
 "metadata": {
  "kernelspec": {
   "display_name": "Python 3",
   "language": "python",
   "name": "python3"
  },
  "language_info": {
   "codemirror_mode": {
    "name": "ipython",
    "version": 3
   },
   "file_extension": ".py",
   "mimetype": "text/x-python",
   "name": "python",
   "nbconvert_exporter": "python",
   "pygments_lexer": "ipython3",
   "version": "3.6.10"
  },
  "toc": {
   "base_numbering": 1,
   "nav_menu": {},
   "number_sections": true,
   "sideBar": true,
   "skip_h1_title": false,
   "title_cell": "Table of Contents",
   "title_sidebar": "Contents",
   "toc_cell": false,
   "toc_position": {},
   "toc_section_display": true,
   "toc_window_display": false
  }
 },
 "nbformat": 4,
 "nbformat_minor": 4
}
