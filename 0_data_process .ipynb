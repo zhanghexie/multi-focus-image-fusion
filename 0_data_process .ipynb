{
 "cells": [
  {
   "cell_type": "code",
   "execution_count": 1,
   "metadata": {
    "execution": {
     "iopub.execute_input": "2020-09-25T12:44:52.223435Z",
     "iopub.status.busy": "2020-09-25T12:44:52.222885Z",
     "iopub.status.idle": "2020-09-25T12:44:55.653027Z",
     "shell.execute_reply": "2020-09-25T12:44:55.651339Z",
     "shell.execute_reply.started": "2020-09-25T12:44:52.223377Z"
    }
   },
   "outputs": [
    {
     "name": "stdout",
     "output_type": "stream",
     "text": [
      "cifar-10-batches-py/\n",
      "cifar-10-batches-py/data_batch_4\n",
      "cifar-10-batches-py/readme.html\n",
      "cifar-10-batches-py/test_batch\n",
      "cifar-10-batches-py/data_batch_3\n",
      "cifar-10-batches-py/batches.meta\n",
      "cifar-10-batches-py/data_batch_2\n",
      "cifar-10-batches-py/data_batch_5\n",
      "cifar-10-batches-py/data_batch_1\n"
     ]
    }
   ],
   "source": [
    "# 下载数据，创建目录\n",
    "! sh ./setup.sh"
   ]
  },
  {
   "cell_type": "code",
   "execution_count": 2,
   "metadata": {
    "execution": {
     "iopub.execute_input": "2020-09-25T12:44:57.142224Z",
     "iopub.status.busy": "2020-09-25T12:44:57.141635Z",
     "iopub.status.idle": "2020-09-25T12:44:58.506664Z",
     "shell.execute_reply": "2020-09-25T12:44:58.505682Z",
     "shell.execute_reply.started": "2020-09-25T12:44:57.142160Z"
    }
   },
   "outputs": [],
   "source": [
    "from data_tools import *\n",
    "from img_tools import *"
   ]
  },
  {
   "cell_type": "code",
   "execution_count": 3,
   "metadata": {
    "execution": {
     "iopub.execute_input": "2020-09-25T12:45:05.325442Z",
     "iopub.status.busy": "2020-09-25T12:45:05.324880Z",
     "iopub.status.idle": "2020-09-25T12:45:05.599084Z",
     "shell.execute_reply": "2020-09-25T12:45:05.598002Z",
     "shell.execute_reply.started": "2020-09-25T12:45:05.325382Z"
    }
   },
   "outputs": [],
   "source": [
    "num = 0\n",
    "size = 0\n",
    "for i in range(1,6):\n",
    "    path = './cifar-10-batches-py/data_batch_'+str(i)\n",
    "    data = unpickle(path)[b'data']\n",
    "    num += data.shape[0]\n",
    "    size = data.shape[1]\n",
    "    del data"
   ]
  },
  {
   "cell_type": "code",
   "execution_count": 4,
   "metadata": {
    "execution": {
     "iopub.execute_input": "2020-09-25T12:45:24.762635Z",
     "iopub.status.busy": "2020-09-25T12:45:24.762082Z",
     "iopub.status.idle": "2020-09-25T12:45:24.770292Z",
     "shell.execute_reply": "2020-09-25T12:45:24.768820Z",
     "shell.execute_reply.started": "2020-09-25T12:45:24.762574Z"
    }
   },
   "outputs": [
    {
     "name": "stdout",
     "output_type": "stream",
     "text": [
      "50000 3072\n"
     ]
    }
   ],
   "source": [
    "print(num,size)"
   ]
  },
  {
   "cell_type": "code",
   "execution_count": null,
   "metadata": {},
   "outputs": [],
   "source": [
    "data_all = np.zeros((num,size))\n",
    "print(data_all.shape)\n",
    "for i in range(1,6):\n",
    "    path = './cifar-10-batches-py/data_batch_'+str(i)\n",
    "    data = unpickle(path)[b'data']\n",
    "    data_all[(i-1)*10000:(i)*10000,:]=data\n",
    "    del data"
   ]
  },
  {
   "cell_type": "code",
   "execution_count": null,
   "metadata": {},
   "outputs": [],
   "source": [
    "img = data_all[49999].reshape(3,32,32)\n",
    "img = np.transpose(img,(1,2,0))\n",
    "show_img(img/255)"
   ]
  },
  {
   "cell_type": "code",
   "execution_count": null,
   "metadata": {},
   "outputs": [],
   "source": [
    "save_data(data_all,'./cifar-10-batches-py/train_data.pickle')"
   ]
  },
  {
   "cell_type": "code",
   "execution_count": null,
   "metadata": {},
   "outputs": [],
   "source": [
    "test_data = unpickle('./cifar-10-batches-py/test_batch')[b'data']"
   ]
  },
  {
   "cell_type": "code",
   "execution_count": null,
   "metadata": {},
   "outputs": [],
   "source": [
    "save_data(test_data,'./cifar-10-batches-py/test_data.pickle')"
   ]
  },
  {
   "cell_type": "code",
   "execution_count": null,
   "metadata": {},
   "outputs": [],
   "source": []
  }
 ],
 "metadata": {
  "kernelspec": {
   "display_name": "Python 3",
   "language": "python",
   "name": "python3"
  },
  "language_info": {
   "codemirror_mode": {
    "name": "ipython",
    "version": 3
   },
   "file_extension": ".py",
   "mimetype": "text/x-python",
   "name": "python",
   "nbconvert_exporter": "python",
   "pygments_lexer": "ipython3",
   "version": "3.6.10"
  },
  "toc": {
   "base_numbering": 1,
   "nav_menu": {},
   "number_sections": true,
   "sideBar": true,
   "skip_h1_title": false,
   "title_cell": "Table of Contents",
   "title_sidebar": "Contents",
   "toc_cell": false,
   "toc_position": {},
   "toc_section_display": true,
   "toc_window_display": false
  }
 },
 "nbformat": 4,
 "nbformat_minor": 4
}
